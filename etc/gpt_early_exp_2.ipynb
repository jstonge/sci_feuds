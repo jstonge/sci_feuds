{
 "cells": [
  {
   "cell_type": "code",
   "execution_count": 3,
   "metadata": {},
   "outputs": [],
   "source": [
    "import openai\n",
    "openai.api_key = open(\"apikey.txt\", \"r\").read().strip(\"\\n\")"
   ]
  },
  {
   "cell_type": "markdown",
   "metadata": {},
   "source": [
    "## Experiment 1.1: Detecting opposing sentiments in scientific articles\n",
    "\n",
    "`Description:` Can gpt3.5-turbo detect opposing sentiments in scientific papers? \n",
    "\n",
    "`Abilities Required:`\n",
    " - Parsing a potentially noisy paragraph sentence by sentence\n",
    " - Detecting opposing sentiments in scientific contexts\n",
    " - Identifying formal and informal references/mentions \n",
    "\n",
    "`Extra condition:` I wanted to make sure that the output were the same on two different occasions.\n",
    "\n",
    "`Last updated`: 2023-04-11"
   ]
  },
  {
   "cell_type": "code",
   "execution_count": 26,
   "metadata": {},
   "outputs": [
    {
     "name": "stdout",
     "output_type": "stream",
     "text": [
      "{\n",
      "    \"paragraphs\": [\n",
      "        {\n",
      "            \"sentences\": [\n",
      "                {\n",
      "                    \"text\": \"It may be argued- and this is the line taken by W.-E.- both in the paper mentioned and in the book under review - that Lack's view rests on a mistaken notion of natural selection.\",\n",
      "                    \"sentiment_score\": 4,\n",
      "                    \"references\": [\n",
      "                        {\n",
      "                            \"text\": \"W.-E.\",\n",
      "                            \"sentiment_score\": 5\n",
      "                        },\n",
      "                        {\n",
      "                            \"text\": \"Lack\",\n",
      "                            \"sentiment_score\": 3\n",
      "                        }\n",
      "                    ],\n",
      "                    \"theory\": \"natural selection\",\n",
      "                    \"equation\": null,\n",
      "                    \"model\": null,\n",
      "                    \"view\": \"author's view\"\n",
      "                },\n",
      "                {\n",
      "                    \"text\": \"The process of selection works,not only between individuals,but also between groups and between species, thus promoting characters which are to the benefit of the group, even in the face of contrary individual selection which may be kept in check by special devices.\",\n",
      "                    \"sentiment_score\": 7,\n",
      "                    \"references\": null,\n",
      "                    \"theory\": null,\n",
      "                    \"equation\": null,\n",
      "                    \"model\": null,\n",
      "                    \"view\": \"author's view\"\n",
      "                },\n",
      "                {\n",
      "                    \"text\": \"The existence of such evolutionary mechanisms is not only called for by a great many other wise unaccountable facts,but is also in accordance with genetic evolutionary theory (see e.g. WRIGHT, 1945)\",\n",
      "                    \"sentiment_score\": 6,\n",
      "                    \"references\": [\n",
      "                        {\n",
      "                            \"text\": \"WRIGHT\",\n",
      "                            \"sentiment_score\": 5\n",
      "                        }\n",
      "                    ],\n",
      "                    \"theory\": \"genetic evolutionary theory\",\n",
      "                    \"equation\": null,\n",
      "                    \"model\": null,\n",
      "                    \"view\": \"author's view\"\n",
      "                }\n",
      "            ],\n",
      "            \"sentiment_score\": 6.33\n",
      "        }\n",
      "    ]\n",
      "}\n"
     ]
    }
   ],
   "source": [
    "message_history = []\n",
    "\n",
    "def chat(inp, role=\"user\"):\n",
    "    message_history.append({\"role\": role, \"content\": inp})\n",
    "    \n",
    "    completion = openai.ChatCompletion.create(\n",
    "        model=\"gpt-3.5-turbo\",\n",
    "        messages=message_history\n",
    "    )\n",
    "\n",
    "    reply_content = completion.choices[0].message.content\n",
    "    print(reply_content)\n",
    "    message_history.append({\"role\": \"assistant\", \"content\": reply_content})\n",
    "    return reply_content\n",
    "\n",
    "user_input = \"\"\"\n",
    "Instructions:\n",
    " - You are an editors working for a journal. \n",
    " - Your task is to analyze articles that consist of many paragraphs.\n",
    " - Your analysis should contain the following:\n",
    "     - Does each sentence contains mentions or references to other authors (recall that names often start with upper case) ?\n",
    "     - Does each sentence contains mentions to a theory?\n",
    "     - Does each sentence contains equations?\n",
    "     - Does each sentence contains mentions to a model?\n",
    "     - Does each sentence refers to the author's view or someone else's view ?\n",
    " - Provide a sentiment score for the paragraphs using the following scale: 1 to 9 (where 1 is most negative, 5 is neutral, and 9 is most positive), take into account opposing sentiments in the mentions or references to other authors. \n",
    " - Format your response in a json format where for each sentence, you provide the text, overall sentiment score, then if there are mentions or references, with their associated sentiment scores, and finally the equation, model, and if this is the author's view.\n",
    "\n",
    "Here is the first paragraph:\n",
    "\"It may be argued- and this is the line taken by W.-E.- both in the paper mentioned and in the book under review - that Lack's view rests on a mistaken notion of natural selection.The process of selection works,not only between individuals,but also between groups and between species, thus promoting characters which are to the benefit of the group, even in the face of contrary individual selection which may be kept in check by special devices. The existence of such evolutionary mechanisms is not only called for by a great many other wise unaccountable facts,but is also in accordance with genetic evolutionary theory (see e.g. WRIGHT, 1945)\"\n",
    "\"\"\"\n",
    "\n",
    "chat(user_input);"
   ]
  },
  {
   "cell_type": "markdown",
   "metadata": {},
   "source": [
    "## Billing\n",
    "\n",
    "User prompt condition?:\n",
    "```\n",
    "1:00 p.m.\n",
    "Local time: Apr 11, 2023, 9:00 a.m.\n",
    "gpt-3.5-turbo-0301, 4 requests\n",
    "1,787 prompt + 590 completion = 2,377 tokens\n",
    "```\n",
    "\n",
    "\n",
    "For loop condition?:\n",
    "```\n",
    "3:50 p.m.\n",
    "Local time: Apr 11, 2023, 11:50 a.m.\n",
    "gpt-3.5-turbo-0301, 4 requests\n",
    "1,732 prompt + 860 completion = 2,592 tokens\n",
    "```\n",
    "\n",
    "```\n",
    "gpt-3.5-turbo\t$0.002 / 1K tokens\n",
    "```"
   ]
  },
  {
   "cell_type": "code",
   "execution_count": 10,
   "metadata": {},
   "outputs": [
    {
     "name": "stdout",
     "output_type": "stream",
     "text": [
      "0.0052$\n"
     ]
    }
   ],
   "source": [
    "def calc_price(nb_toks):\n",
    "    return print(f\"{round((nb_toks / 1000) * 0.002, 4)}$\")\n",
    "\n",
    "calc_price(2_592)"
   ]
  },
  {
   "cell_type": "code",
   "execution_count": null,
   "metadata": {},
   "outputs": [],
   "source": []
  },
  {
   "cell_type": "markdown",
   "metadata": {},
   "source": [
    "## Bonus: gpt4 and gpt3.5 from openAI platform"
   ]
  },
  {
   "cell_type": "markdown",
   "metadata": {},
   "source": [
    "gpt4\n",
    "```\n",
    "{'sentences': [{'text': \"It may be argued- and this is the line taken by W.-E.- both in the paper mentioned and in the book under review - that Lack's view rests on a mistaken notion of natural selection.\",\n",
    "   'sentiment_score': 4,\n",
    "   'mentions': [{'name': 'W.-E.', 'sentiment_score': 5},\n",
    "    {'name': 'Lack', 'sentiment_score': 2}],\n",
    "   'equations': [],\n",
    "   'models': [],\n",
    "   'author_view': \"Someone else's view\"},\n",
    "  {'text': 'The process of selection works,not only between individuals,but also between groups and between species, thus promoting characters which are to the benefit of the group, even in the face of contrary individual selection which may be kept in check by special devices.',\n",
    "   'sentiment_score': 6,\n",
    "   'mentions': [],\n",
    "   'equations': [],\n",
    "   'models': [],\n",
    "   'author_view': \"Someone else's view\"},\n",
    "  {'text': 'The existence of such evolutionary mechanisms is not only called for by a great many other wise unaccountable facts,but is also in accordance with genetic evolutionary theory (see e.g. WRIGHT, 1945)',\n",
    "   'sentiment_score': 6,\n",
    "   'mentions': [{'name': 'WRIGHT', 'sentiment_score': 6}],\n",
    "   'equations': [],\n",
    "   'models': [],\n",
    "   'author_view': \"Someone else's view\"}]}\n",
    "```"
   ]
  },
  {
   "cell_type": "markdown",
   "metadata": {},
   "source": [
    "gpt3.5\n",
    "```\n",
    "{'sentences': [{'text': \"It may be argued- and this is the line taken by W.-E.- both in the paper mentioned and in the book under review - that Lack's view rests on a mistaken notion of natural selection.\",\n",
    "   'overall_sentiment': 5,\n",
    "   'references': [{'text': 'W.-E.-', 'sentiment': 5},\n",
    "    {'text': 'Lack', 'sentiment': 5}],\n",
    "   'theory': 'natural selection',\n",
    "   'equations': [],\n",
    "   'models': [],\n",
    "   'view': \"someone else's view\"},\n",
    "  {'text': 'The process of selection works, not only between individuals, but also between groups and between species, thus promoting characters which are to the benefit of the group, even in the face of contrary individual selection which may be kept in check by special devices.',\n",
    "   'overall_sentiment': 7,\n",
    "   'references': [],\n",
    "   'theory': 'natural selection',\n",
    "   'equations': [],\n",
    "   'models': [],\n",
    "   'view': \"author's view\"},\n",
    "  {'text': 'The existence of such evolutionary mechanisms is not only called for by a great many otherwise unaccountable facts, but is also in accordance with genetic evolutionary theory (see e.g. WRIGHT, 1945)',\n",
    "   'overall_sentiment': 6,\n",
    "   'references': [{'text': 'WRIGHT, 1945', 'sentiment': 6}],\n",
    "   'theory': 'genetic evolutionary theory',\n",
    "   'equations': [],\n",
    "   'models': [],\n",
    "   'view': \"someone else's view\"}],\n",
    " 'paragraph_sentiment': 6}\n",
    "```"
   ]
  }
 ],
 "metadata": {
  "kernelspec": {
   "display_name": "Python 3.8.16 ('mmda')",
   "language": "python",
   "name": "python3"
  },
  "language_info": {
   "codemirror_mode": {
    "name": "ipython",
    "version": 3
   },
   "file_extension": ".py",
   "mimetype": "text/x-python",
   "name": "python",
   "nbconvert_exporter": "python",
   "pygments_lexer": "ipython3",
   "version": "3.8.16"
  },
  "orig_nbformat": 4,
  "vscode": {
   "interpreter": {
    "hash": "628ce9bf959dfc0606f0a1b0d503cf8f0ef965d2f8ad4a53086fe992c3ec7149"
   }
  }
 },
 "nbformat": 4,
 "nbformat_minor": 2
}
